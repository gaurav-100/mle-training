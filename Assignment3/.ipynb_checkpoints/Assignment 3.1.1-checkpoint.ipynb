{
 "cells": [
  {
   "cell_type": "markdown",
   "id": "fd6948c7",
   "metadata": {},
   "source": [
    "# Steps to be followed:\n",
    "   1. Look at big picture\n",
    "   2. Get the data\n",
    "   3. Discover and visualize the data to gain insight\n",
    "   4. Prepare data for ML algorithms\n",
    "   5. Select model and train it\n",
    "   6. Fine tune model\n",
    "   7. Present solution\n",
    "   8. Launch, monitor and maintain system"
   ]
  },
  {
   "cell_type": "markdown",
   "id": "a70a9da4",
   "metadata": {},
   "source": [
    "## 1. Big picture\n",
    "\n",
    "1. Task is to use California census data to build a model of housing prices in the state.\n",
    "2. Data includes metrics such as the populaiton, median income, and median housing price for each block group in California. Block groups are smallest geographical unit for which the US Census Bureau samples data."
   ]
  },
  {
   "cell_type": "code",
   "execution_count": null,
   "id": "7f542977",
   "metadata": {},
   "outputs": [],
   "source": []
  }
 ],
 "metadata": {
  "kernelspec": {
   "display_name": "Python 3 (ipykernel)",
   "language": "python",
   "name": "python3"
  },
  "language_info": {
   "codemirror_mode": {
    "name": "ipython",
    "version": 3
   },
   "file_extension": ".py",
   "mimetype": "text/x-python",
   "name": "python",
   "nbconvert_exporter": "python",
   "pygments_lexer": "ipython3",
   "version": "3.9.12"
  }
 },
 "nbformat": 4,
 "nbformat_minor": 5
}
